{
 "cells": [
  {
   "cell_type": "code",
   "execution_count": 1,
   "metadata": {
    "colab": {
     "base_uri": "https://localhost:8080/",
     "height": 84
    },
    "colab_type": "code",
    "id": "rKHdvk9ND7Eb",
    "outputId": "3fda7ee2-41fc-4713-e481-c2beff610e59"
   },
   "outputs": [
    {
     "name": "stderr",
     "output_type": "stream",
     "text": [
      "/opt/conda/lib/python3.7/site-packages/tensorflow/python/framework/dtypes.py:516: FutureWarning: Passing (type, 1) or '1type' as a synonym of type is deprecated; in a future version of numpy, it will be understood as (type, (1,)) / '(1,)type'.\n",
      "  _np_qint8 = np.dtype([(\"qint8\", np.int8, 1)])\n",
      "/opt/conda/lib/python3.7/site-packages/tensorflow/python/framework/dtypes.py:517: FutureWarning: Passing (type, 1) or '1type' as a synonym of type is deprecated; in a future version of numpy, it will be understood as (type, (1,)) / '(1,)type'.\n",
      "  _np_quint8 = np.dtype([(\"quint8\", np.uint8, 1)])\n",
      "/opt/conda/lib/python3.7/site-packages/tensorflow/python/framework/dtypes.py:518: FutureWarning: Passing (type, 1) or '1type' as a synonym of type is deprecated; in a future version of numpy, it will be understood as (type, (1,)) / '(1,)type'.\n",
      "  _np_qint16 = np.dtype([(\"qint16\", np.int16, 1)])\n",
      "/opt/conda/lib/python3.7/site-packages/tensorflow/python/framework/dtypes.py:519: FutureWarning: Passing (type, 1) or '1type' as a synonym of type is deprecated; in a future version of numpy, it will be understood as (type, (1,)) / '(1,)type'.\n",
      "  _np_quint16 = np.dtype([(\"quint16\", np.uint16, 1)])\n",
      "/opt/conda/lib/python3.7/site-packages/tensorflow/python/framework/dtypes.py:520: FutureWarning: Passing (type, 1) or '1type' as a synonym of type is deprecated; in a future version of numpy, it will be understood as (type, (1,)) / '(1,)type'.\n",
      "  _np_qint32 = np.dtype([(\"qint32\", np.int32, 1)])\n",
      "/opt/conda/lib/python3.7/site-packages/tensorflow/python/framework/dtypes.py:525: FutureWarning: Passing (type, 1) or '1type' as a synonym of type is deprecated; in a future version of numpy, it will be understood as (type, (1,)) / '(1,)type'.\n",
      "  np_resource = np.dtype([(\"resource\", np.ubyte, 1)])\n",
      "/opt/conda/lib/python3.7/site-packages/tensorboard/compat/tensorflow_stub/dtypes.py:541: FutureWarning: Passing (type, 1) or '1type' as a synonym of type is deprecated; in a future version of numpy, it will be understood as (type, (1,)) / '(1,)type'.\n",
      "  _np_qint8 = np.dtype([(\"qint8\", np.int8, 1)])\n",
      "/opt/conda/lib/python3.7/site-packages/tensorboard/compat/tensorflow_stub/dtypes.py:542: FutureWarning: Passing (type, 1) or '1type' as a synonym of type is deprecated; in a future version of numpy, it will be understood as (type, (1,)) / '(1,)type'.\n",
      "  _np_quint8 = np.dtype([(\"quint8\", np.uint8, 1)])\n",
      "/opt/conda/lib/python3.7/site-packages/tensorboard/compat/tensorflow_stub/dtypes.py:543: FutureWarning: Passing (type, 1) or '1type' as a synonym of type is deprecated; in a future version of numpy, it will be understood as (type, (1,)) / '(1,)type'.\n",
      "  _np_qint16 = np.dtype([(\"qint16\", np.int16, 1)])\n",
      "/opt/conda/lib/python3.7/site-packages/tensorboard/compat/tensorflow_stub/dtypes.py:544: FutureWarning: Passing (type, 1) or '1type' as a synonym of type is deprecated; in a future version of numpy, it will be understood as (type, (1,)) / '(1,)type'.\n",
      "  _np_quint16 = np.dtype([(\"quint16\", np.uint16, 1)])\n",
      "/opt/conda/lib/python3.7/site-packages/tensorboard/compat/tensorflow_stub/dtypes.py:545: FutureWarning: Passing (type, 1) or '1type' as a synonym of type is deprecated; in a future version of numpy, it will be understood as (type, (1,)) / '(1,)type'.\n",
      "  _np_qint32 = np.dtype([(\"qint32\", np.int32, 1)])\n",
      "/opt/conda/lib/python3.7/site-packages/tensorboard/compat/tensorflow_stub/dtypes.py:550: FutureWarning: Passing (type, 1) or '1type' as a synonym of type is deprecated; in a future version of numpy, it will be understood as (type, (1,)) / '(1,)type'.\n",
      "  np_resource = np.dtype([(\"resource\", np.ubyte, 1)])\n"
     ]
    },
    {
     "data": {
      "text/plain": [
       "20"
      ]
     },
     "execution_count": 1,
     "metadata": {},
     "output_type": "execute_result"
    }
   ],
   "source": [
    "import nltk\n",
    "import pandas as pd\n",
    "import numpy as np\n",
    "import tensorflow as tf\n",
    "from tensorflow import keras\n",
    "\n",
    "import matplotlib.pyplot as plt\n",
    "from nltk.corpus import stopwords\n",
    "from tensorflow.keras.preprocessing.text import Tokenizer\n",
    "from tensorflow.keras.preprocessing.sequence import pad_sequences\n",
    "from tensorflow.keras.models import Sequential\n",
    "from tensorflow.keras.layers import Dense, Embedding, LSTM, SpatialDropout1D, Bidirectional\n",
    "from sklearn.model_selection import train_test_split\n",
    "from tensorflow.keras.utils import to_categorical\n",
    "from tensorflow.keras.callbacks import EarlyStopping\n",
    "from tensorflow.keras.layers import Dropout\n",
    "import re\n",
    "pd.get_option(\"display.max_columns\",100)"
   ]
  },
  {
   "cell_type": "code",
   "execution_count": 2,
   "metadata": {
    "colab": {},
    "colab_type": "code",
    "id": "iNy5xIgb28MT"
   },
   "outputs": [],
   "source": [
    "###Load top songs database###\n",
    "Eng_df = pd.read_csv('./Data/English.csv')\n",
    "#'https://raw.githubusercontent.com/stekim/ece228lyricsgenre/master/top500songs_lyrics_genre.csv')[['SongInfo','Lyrics','Genre']]\n",
    "Eng_df.rename(columns={'SongInfo': 'song', 'Lyrics': 'lyrics','Genre':'genre','Idiom':'idiom'}, inplace = True)\n",
    "#Load additional 730 songs\n",
    "#more_top_songs_df = pd.read_csv('https://raw.githubusercontent.com/bjherger/LyricsGenreIdentification/master/code/data%20gathering/output/songs_full_with_lyrics.csv')[['song','lyrics','genre']]\n",
    "#combine dfs\n",
    "top_1200_songs_df = Eng_df\n",
    "top_1200_songs_df= top_1200_songs_df[['song','lyrics','genre','idiom']]"
   ]
  },
  {
   "cell_type": "code",
   "execution_count": 3,
   "metadata": {
    "colab": {
     "base_uri": "https://localhost:8080/",
     "height": 50
    },
    "colab_type": "code",
    "id": "zRdgukIkziI2",
    "outputId": "f9119b6b-4f0d-42a4-ea07-0284089e847f"
   },
   "outputs": [
    {
     "data": {
      "text/plain": [
       "array([\"'Rock'\", \"'Pop'\", \"'Hip Hop'\", \"'Sertanejo'\", \"'Samba'\",\n",
       "       \"'Funk Carioca'\"], dtype=object)"
      ]
     },
     "execution_count": 3,
     "metadata": {},
     "output_type": "execute_result"
    }
   ],
   "source": [
    "top_1200_songs_df.genre.unique()\n",
    "\n"
   ]
  },
  {
   "cell_type": "code",
   "execution_count": 4,
   "metadata": {
    "colab": {
     "base_uri": "https://localhost:8080/",
     "height": 334
    },
    "colab_type": "code",
    "id": "SIkHYqArlyAt",
    "outputId": "bfe203d0-a96b-4702-f51e-c77ea7113960"
   },
   "outputs": [
    {
     "name": "stderr",
     "output_type": "stream",
     "text": [
      "/opt/conda/lib/python3.7/site-packages/pandas/core/generic.py:6788: SettingWithCopyWarning: \n",
      "A value is trying to be set on a copy of a slice from a DataFrame\n",
      "\n",
      "See the caveats in the documentation: http://pandas.pydata.org/pandas-docs/stable/user_guide/indexing.html#returning-a-view-versus-a-copy\n",
      "  self._update_inplace(new_data)\n"
     ]
    },
    {
     "data": {
      "text/plain": [
       "<matplotlib.axes._subplots.AxesSubplot at 0x7f8663f822b0>"
      ]
     },
     "execution_count": 4,
     "metadata": {},
     "output_type": "execute_result"
    },
    {
     "data": {
      "image/png": "[encoded data removed]",
      "text/plain": [
       "<Figure size 432x288 with 1 Axes>"
      ]
     },
     "metadata": {
      "needs_background": "light"
     },
     "output_type": "display_data"
    }
   ],
   "source": [
    "# Maybe we have a chart to show what genre's each dataset has\n",
    "top_1200_songs_df.genre.replace(\"'Rock'\",\"Rock\", inplace=True)\n",
    "top_1200_songs_df.genre.replace(\"'Pop'\",\"Pop\", inplace=True)\n",
    "top_1200_songs_df.genre.replace(\"'Hip Hop'\",\"Hip_Hop\", inplace=True)\n",
    "top_1200_songs_df.genre.replace(\"'Samba'\",\"Samba\", inplace=True)\n",
    "top_1200_songs_df.genre.replace(\"'Funk Carioca'\",\"Funk\", inplace=True)\n",
    "top_1200_songs_df.genre.replace(\"'Sertanejo'\",\"Sertanejo\", inplace=True)\n",
    "top_1200_songs_df.genre.value_counts().sort_values().plot(kind = 'bar') "
   ]
  },
  {
   "cell_type": "code",
   "execution_count": 5,
   "metadata": {
    "colab": {},
    "colab_type": "code",
    "id": "527peRe51l8d"
   },
   "outputs": [],
   "source": [
    "#Clean_text function\n",
    "top_1200_songs_df = top_1200_songs_df.reset_index(drop=True)\n",
    "remove_special_chars = re.compile('[-/(){}\\´[\\]\\|@,©;¡ª§£³]')\n",
    "remove_other_chars = re.compile('[^0-9a-z #+_ Ã ]')\n",
    "stopwords = nltk.corpus.stopwords.words('english')\n",
    "\n",
    "\n",
    "def clean_text(text):\n",
    "    text = str(text)\n",
    "    text = text.lower() \n",
    "    text = remove_special_chars.sub(' ', text)\n",
    "    text = remove_other_chars.sub('', text)  \n",
    "    text = text.replace('x', '')\n",
    "#    text = re.sub(r'\\W+', '', text)\n",
    "    text = ' '.join(word for word in text.split() if word not in stopwords) # remove stopwors from text\n",
    "    return text"
   ]
  },
  {
   "cell_type": "code",
   "execution_count": 6,
   "metadata": {
    "colab": {},
    "colab_type": "code",
    "id": "gqeqfWtDlyi8"
   },
   "outputs": [],
   "source": [
    "top_1200_songs_df['lyrics'] = top_1200_songs_df['lyrics'].apply(clean_text)"
   ]
  },
  {
   "cell_type": "code",
   "execution_count": 7,
   "metadata": {
    "colab": {
     "base_uri": "https://localhost:8080/",
     "height": 84
    },
    "colab_type": "code",
    "id": "dlyAwoIx7Jfe",
    "outputId": "9993016d-43ee-476d-d741-1e96c23da14a"
   },
   "outputs": [
    {
     "data": {
      "text/plain": [
       "song      109424\n",
       "lyrics    109424\n",
       "genre     109424\n",
       "idiom     109424\n",
       "dtype: int64"
      ]
     },
     "execution_count": 7,
     "metadata": {},
     "output_type": "execute_result"
    }
   ],
   "source": [
    "top_1200_songs_df.dropna(inplace=True)\n",
    "top_1200_songs_df.count()"
   ]
  },
  {
   "cell_type": "code",
   "execution_count": 8,
   "metadata": {
    "colab": {
     "base_uri": "https://localhost:8080/",
     "height": 34
    },
    "colab_type": "code",
    "id": "nylaOXDa4xL2",
    "outputId": "11b25a53-9500-4b23-d198-4ab990052ad5"
   },
   "outputs": [
    {
     "name": "stdout",
     "output_type": "stream",
     "text": [
      "Found 127889 unique tokens.\n"
     ]
    }
   ],
   "source": [
    "# The maximum number of words to be used. (most frequent)\n",
    "MAX_NB_WORDS = 50000\n",
    "# Max number of words in each complaint.\n",
    "MAX_SEQUENCE_LENGTH = 250\n",
    "# This is fixed.\n",
    "EMBEDDING_DIM = 100\n",
    "tokenizer = Tokenizer(num_words=MAX_NB_WORDS, filters='!\"#$%&()*+,-./:;<=>?@[\\]^_`{|}~', lower=True)\n",
    "tokenizer.fit_on_texts(top_1200_songs_df['lyrics'].values)\n",
    "word_index = tokenizer.word_index\n",
    "print('Found %s unique tokens.' % len(word_index))"
   ]
  },
  {
   "cell_type": "code",
   "execution_count": 9,
   "metadata": {
    "colab": {},
    "colab_type": "code",
    "id": "PS9VsyNS7MqW"
   },
   "outputs": [],
   "source": [
    "# word_index\n",
    "# \n",
    "# {'im': 1,\n",
    "#  'like': 2,\n",
    "#  'know': 3,\n",
    "#  'love': 4,\n",
    "#  'dont': 5,\n",
    "#  'get': 6,\n",
    "#  'got': 7,\n",
    "#  'wanna': 8,\n",
    "#  ....\n",
    "# \n"
   ]
  },
  {
   "cell_type": "code",
   "execution_count": 10,
   "metadata": {
    "colab": {
     "base_uri": "https://localhost:8080/",
     "height": 34
    },
    "colab_type": "code",
    "id": "7VheV-epBAju",
    "outputId": "4cc10744-56c5-4cc5-8736-c12636c0bff0"
   },
   "outputs": [
    {
     "name": "stdout",
     "output_type": "stream",
     "text": [
      "Shape of data tensor: (109424, 250)\n"
     ]
    }
   ],
   "source": [
    "#make all lyrics the same length with \"pad_sequences\", so that we can do operations on each data point\n",
    "X = tokenizer.texts_to_sequences(top_1200_songs_df['lyrics'].values)\n",
    "X = pad_sequences(X, maxlen=MAX_SEQUENCE_LENGTH)\n",
    "print('Shape of data tensor:', X.shape)"
   ]
  },
  {
   "cell_type": "code",
   "execution_count": 11,
   "metadata": {
    "colab": {
     "base_uri": "https://localhost:8080/",
     "height": 34
    },
    "colab_type": "code",
    "id": "wDni7fxd7O3k",
    "outputId": "493f3d1e-c64d-41b5-ec35-85f7eaefed90"
   },
   "outputs": [
    {
     "name": "stdout",
     "output_type": "stream",
     "text": [
      "Shape of label tensor: (109424, 6)\n"
     ]
    }
   ],
   "source": [
    "\n",
    "#get our y labels\n",
    "Y = pd.get_dummies(top_1200_songs_df['genre']).values\n",
    "print('Shape of label tensor:', Y.shape)"
   ]
  },
  {
   "cell_type": "code",
   "execution_count": 12,
   "metadata": {
    "colab": {
     "base_uri": "https://localhost:8080/",
     "height": 50
    },
    "colab_type": "code",
    "id": "Pcn4AdFaFth_",
    "outputId": "1f3c6edc-4d12-4715-ff03-fdf5dde0472a"
   },
   "outputs": [
    {
     "name": "stdout",
     "output_type": "stream",
     "text": [
      "(76596, 250) (76596, 6)\n",
      "(32828, 250) (32828, 6)\n"
     ]
    }
   ],
   "source": [
    "X_train, X_test, Y_train, Y_test = train_test_split(X,Y, test_size = 0.30, random_state = 42)\n",
    "print(X_train.shape,Y_train.shape)\n",
    "print(X_test.shape,Y_test.shape)"
   ]
  },
  {
   "cell_type": "code",
   "execution_count": 13,
   "metadata": {
    "colab": {
     "base_uri": "https://localhost:8080/",
     "height": 302
    },
    "colab_type": "code",
    "id": "Q_YsQG68GBfQ",
    "outputId": "dd256345-19e4-4a53-d8a9-6462ae265894"
   },
   "outputs": [
    {
     "name": "stdout",
     "output_type": "stream",
     "text": [
      "WARNING:tensorflow:From /opt/conda/lib/python3.7/site-packages/tensorflow/python/keras/initializers.py:119: calling RandomUniform.__init__ (from tensorflow.python.ops.init_ops) with dtype is deprecated and will be removed in a future version.\n",
      "Instructions for updating:\n",
      "Call initializer instance with the dtype argument instead of passing it to the constructor\n",
      "WARNING:tensorflow:From /opt/conda/lib/python3.7/site-packages/tensorflow/python/ops/init_ops.py:1251: calling VarianceScaling.__init__ (from tensorflow.python.ops.init_ops) with dtype is deprecated and will be removed in a future version.\n",
      "Instructions for updating:\n",
      "Call initializer instance with the dtype argument instead of passing it to the constructor\n",
      "WARNING:tensorflow:From /opt/conda/lib/python3.7/site-packages/tensorflow/python/ops/init_ops.py:97: calling GlorotUniform.__init__ (from tensorflow.python.ops.init_ops) with dtype is deprecated and will be removed in a future version.\n",
      "Instructions for updating:\n",
      "Call initializer instance with the dtype argument instead of passing it to the constructor\n",
      "WARNING:tensorflow:From /opt/conda/lib/python3.7/site-packages/tensorflow/python/ops/init_ops.py:97: calling Orthogonal.__init__ (from tensorflow.python.ops.init_ops) with dtype is deprecated and will be removed in a future version.\n",
      "Instructions for updating:\n",
      "Call initializer instance with the dtype argument instead of passing it to the constructor\n",
      "WARNING:tensorflow:From /opt/conda/lib/python3.7/site-packages/tensorflow/python/ops/init_ops.py:97: calling Zeros.__init__ (from tensorflow.python.ops.init_ops) with dtype is deprecated and will be removed in a future version.\n",
      "Instructions for updating:\n",
      "Call initializer instance with the dtype argument instead of passing it to the constructor\n",
      "Model: \"sequential\"\n",
      "_________________________________________________________________\n",
      "Layer (type)                 Output Shape              Param #   \n",
      "=================================================================\n",
      "embedding (Embedding)        (None, 250, 100)          5000000   \n",
      "_________________________________________________________________\n",
      "spatial_dropout1d (SpatialDr (None, 250, 100)          0         \n",
      "_________________________________________________________________\n",
      "bidirectional (Bidirectional (None, 200)               160800    \n",
      "_________________________________________________________________\n",
      "dense (Dense)                (None, 6)                 1206      \n",
      "=================================================================\n",
      "Total params: 5,162,006\n",
      "Trainable params: 5,162,006\n",
      "Non-trainable params: 0\n",
      "_________________________________________________________________\n",
      "None\n"
     ]
    }
   ],
   "source": [
    "model = Sequential()\n",
    "model.add(Embedding(MAX_NB_WORDS, EMBEDDING_DIM, input_length=X.shape[1]))\n",
    "model.add(SpatialDropout1D(0.5))\n",
    "model.add(Bidirectional(LSTM(100, dropout=0.5, recurrent_dropout=0.5)))\n",
    "model.add(Dense(6, activation='softmax'))\n",
    "model.compile(loss='categorical_crossentropy', optimizer='adam', metrics=['accuracy'])\n",
    "print(model.summary())"
   ]
  },
  {
   "cell_type": "code",
   "execution_count": 14,
   "metadata": {
    "colab": {
     "base_uri": "https://localhost:8080/",
     "height": 423
    },
    "colab_type": "code",
    "id": "yyczIUh1GH2N",
    "outputId": "9c19df59-ac88-4959-d0e4-25cbe2d74634"
   },
   "outputs": [
    {
     "name": "stdout",
     "output_type": "stream",
     "text": [
      "Train on 68936 samples, validate on 7660 samples\n",
      "WARNING:tensorflow:From /opt/conda/lib/python3.7/site-packages/tensorflow/python/ops/math_grad.py:1250: add_dispatch_support.<locals>.wrapper (from tensorflow.python.ops.array_ops) is deprecated and will be removed in a future version.\n",
      "Instructions for updating:\n",
      "Use tf.where in 2.0, which has the same broadcast rule as np.where\n",
      "Epoch 1/50\n",
      "68936/68936 [==============================] - 71s 1ms/sample - loss: 1.0300 - acc: 0.5605 - val_loss: 0.8778 - val_acc: 0.6012\n",
      "Epoch 2/50\n",
      "68936/68936 [==============================] - 68s 988us/sample - loss: 0.8632 - acc: 0.6007 - val_loss: 0.8481 - val_acc: 0.6176\n",
      "Epoch 3/50\n",
      "68936/68936 [==============================] - 68s 981us/sample - loss: 0.7998 - acc: 0.6316 - val_loss: 0.7452 - val_acc: 0.6650\n",
      "Epoch 4/50\n",
      "68936/68936 [==============================] - 68s 982us/sample - loss: 0.7274 - acc: 0.6705 - val_loss: 0.7067 - val_acc: 0.6868\n",
      "Epoch 5/50\n",
      "68936/68936 [==============================] - 68s 984us/sample - loss: 0.6706 - acc: 0.7010 - val_loss: 0.6838 - val_acc: 0.7010\n",
      "Epoch 6/50\n",
      "68936/68936 [==============================] - 67s 966us/sample - loss: 0.6297 - acc: 0.7244 - val_loss: 0.6635 - val_acc: 0.7157\n",
      "Epoch 7/50\n",
      "68936/68936 [==============================] - 67s 978us/sample - loss: 0.5923 - acc: 0.7440 - val_loss: 0.6562 - val_acc: 0.7170\n",
      "Epoch 8/50\n",
      "68936/68936 [==============================] - 67s 967us/sample - loss: 0.5648 - acc: 0.7594 - val_loss: 0.6459 - val_acc: 0.7200\n",
      "Epoch 9/50\n",
      "68936/68936 [==============================] - 68s 985us/sample - loss: 0.5415 - acc: 0.7678 - val_loss: 0.6361 - val_acc: 0.7366\n",
      "Epoch 10/50\n",
      "68936/68936 [==============================] - 67s 972us/sample - loss: 0.5189 - acc: 0.7794 - val_loss: 0.6322 - val_acc: 0.7411\n",
      "Epoch 11/50\n",
      "68936/68936 [==============================] - 67s 973us/sample - loss: 0.4966 - acc: 0.7927 - val_loss: 0.6286 - val_acc: 0.7454\n",
      "Epoch 12/50\n",
      "68936/68936 [==============================] - 67s 975us/sample - loss: 0.4731 - acc: 0.8026 - val_loss: 0.6261 - val_acc: 0.7518\n",
      "Epoch 13/50\n",
      "68936/68936 [==============================] - 69s 999us/sample - loss: 0.4535 - acc: 0.8148 - val_loss: 0.6322 - val_acc: 0.7542\n",
      "Epoch 14/50\n",
      "68936/68936 [==============================] - 68s 983us/sample - loss: 0.4310 - acc: 0.8243 - val_loss: 0.6289 - val_acc: 0.7529\n",
      "Epoch 15/50\n",
      "68936/68936 [==============================] - 69s 997us/sample - loss: 0.4118 - acc: 0.8329 - val_loss: 0.6327 - val_acc: 0.7597\n"
     ]
    }
   ],
   "source": [
    "epochs = 50\n",
    "batch_size = 1000\n",
    "\n",
    "history = model.fit(X_train, Y_train, epochs=epochs,\n",
    "                    batch_size=batch_size,\n",
    "                    validation_split=0.1,\n",
    "                    callbacks=[EarlyStopping(monitor='val_loss', patience=3, min_delta=0.0001)])"
   ]
  },
  {
   "cell_type": "code",
   "execution_count": 15,
   "metadata": {},
   "outputs": [
    {
     "name": "stdout",
     "output_type": "stream",
     "text": [
      "dict_keys(['loss', 'acc', 'val_loss', 'val_acc'])\n"
     ]
    }
   ],
   "source": [
    "print(history.history.keys())"
   ]
  },
  {
   "cell_type": "code",
   "execution_count": 16,
   "metadata": {
    "colab": {
     "base_uri": "https://localhost:8080/",
     "height": 84
    },
    "colab_type": "code",
    "id": "zX6jwyGtGL4P",
    "outputId": "483d9a21-cc27-42dd-e4e3-a18f0d50b63f"
   },
   "outputs": [
    {
     "name": "stdout",
     "output_type": "stream",
     "text": [
      "32828/32828 [==============================] - 309s 9ms/sample - loss: 0.6453 - acc: 0.7557\n",
      "Test set\n",
      "  Loss: 0.645\n",
      "  Accuracy: 0.756\n"
     ]
    }
   ],
   "source": [
    "\n",
    "accr = model.evaluate(X_test,Y_test)\n",
    "print('Test set\\n  Loss: {:0.3f}\\n  Accuracy: {:0.3f}'.format(accr[0],accr[1]))"
   ]
  },
  {
   "cell_type": "code",
   "execution_count": 17,
   "metadata": {
    "colab": {
     "base_uri": "https://localhost:8080/",
     "height": 281
    },
    "colab_type": "code",
    "id": "HjhgGzwwGfEK",
    "outputId": "e848360e-9938-4db6-d4ca-c3fa3b237bf7"
   },
   "outputs": [
    {
     "data": {
      "image/png": "[encoded data removed]",
      "text/plain": [
       "<Figure size 432x288 with 1 Axes>"
      ]
     },
     "metadata": {
      "needs_background": "light"
     },
     "output_type": "display_data"
    }
   ],
   "source": [
    "plt.title('Loss')\n",
    "plt.plot(history.history['loss'], label='train')\n",
    "plt.plot(history.history['val_loss'], label='test')\n",
    "plt.legend()\n",
    "plt.show();\n",
    "\n"
   ]
  },
  {
   "cell_type": "code",
   "execution_count": 18,
   "metadata": {
    "colab": {
     "base_uri": "https://localhost:8080/",
     "height": 281
    },
    "colab_type": "code",
    "id": "vokpUCdPGi96",
    "outputId": "47132792-2249-4776-a361-9ab6166177d8"
   },
   "outputs": [
    {
     "data": {
      "image/png": "[encoded data removed]",
      "text/plain": [
       "<Figure size 432x288 with 1 Axes>"
      ]
     },
     "metadata": {
      "needs_background": "light"
     },
     "output_type": "display_data"
    }
   ],
   "source": [
    "plt.title('Accuracy')\n",
    "plt.plot(history.history['acc'], label='train')\n",
    "plt.plot(history.history['val_acc'], label='test')\n",
    "plt.legend()\n",
    "plt.show();"
   ]
  },
  {
   "cell_type": "code",
   "execution_count": null,
   "metadata": {
    "colab": {},
    "colab_type": "code",
    "id": "LM4H3aCEGlAA"
   },
   "outputs": [],
   "source": []
  }
 ],
 "metadata": {
  "accelerator": "GPU",
  "colab": {
   "collapsed_sections": [],
   "name": "ECE 288 - NLP Lyric Genres.ipynb",
   "provenance": []
  },
  "kernelspec": {
   "display_name": "Python 3",
   "language": "python",
   "name": "python3"
  },
  "language_info": {
   "codemirror_mode": {
    "name": "ipython",
    "version": 3
   },
   "file_extension": ".py",
   "mimetype": "text/x-python",
   "name": "python",
   "nbconvert_exporter": "python",
   "pygments_lexer": "ipython3",
   "version": "3.7.3"
  }
 },
 "nbformat": 4,
 "nbformat_minor": 1
}
